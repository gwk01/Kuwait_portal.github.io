{
 "cells": [
  {
   "cell_type": "code",
   "execution_count": 8,
   "metadata": {},
   "outputs": [],
   "source": [
    "# imports\n",
    "import time\n",
    "import pandas as pd\n",
    "import glob\n",
    "import os.path\n",
    "import json\n",
    "import os\n",
    "import selenium\n",
    "from selenium import webdriver\n",
    "from selenium.webdriver import ActionChains\n",
    "from selenium.webdriver.common.by import By\n",
    "from selenium.webdriver.common.keys import Keys\n",
    "from selenium.webdriver.support.ui import WebDriverWait\n",
    "from selenium.webdriver.support import expected_conditions as EC"
   ]
  },
  {
   "cell_type": "markdown",
   "metadata": {},
   "source": [
    "# Define Helper Functions"
   ]
  },
  {
   "cell_type": "code",
   "execution_count": 9,
   "metadata": {},
   "outputs": [],
   "source": [
    "#test if download completed\n",
    "def latest_download_file(path):\n",
    "    #os.chdir(path)\n",
    "    #os.getcwd()\n",
    "    #files = sorted(os.listdir(path), key=os.path.getmtime)\n",
    "    files = sorted(os.listdir(folder_path), key= lambda file: os.path.getmtime(folder_path+'/'+file))\n",
    "    newest = files[-1]\n",
    "    return newest\n",
    "\n",
    "def click_and_wait_till_download_starts(BS_Objct_to_click,path):\n",
    "    pre_download_newest_file = latest_download_file(path)\n",
    "    \n",
    "    BS_Objct_to_click.click()\n",
    "    print(\"waiting till download starts\")\n",
    "    newest_file = latest_download_file(path)\n",
    "    while pre_download_newest_file == newest_file:\n",
    "        time.sleep(1)\n",
    "        newest_file = latest_download_file(path)\n",
    "        if pre_download_newest_file != newest_file:\n",
    "            print(\"file download detected\")\n",
    "        else:\n",
    "            continue    \n",
    "\n",
    "def wait_till_download_completes(path):\n",
    "    fileends = \"crdownload\"\n",
    "    start_time = time.time()\n",
    "    while \"crdownload\" == fileends:\n",
    "        time.sleep(1)\n",
    "        newest_file = latest_download_file(path)\n",
    "        if \"crdownload\" in newest_file:\n",
    "            elapsed = time.time() - start_time\n",
    "            print(\"waiting for download to complete. elapsed_time: \"+str(elapsed), end=\"\\r\", flush=True)\n",
    "            fileends = \"crdownload\"\n",
    "        else:\n",
    "            fileends = \"none\""
   ]
  },
  {
   "cell_type": "code",
   "execution_count": 10,
   "metadata": {},
   "outputs": [],
   "source": [
    "def filter_country(driver,country_name,cog_wheel,dimensions_button,country_edit_button,deselect_all_button,filter_dialogue_window,apply_button):\n",
    "    cog = driver.find_element_by_xpath(cog_wheel)\n",
    "    cog.click()\n",
    "\n",
    "    dim = driver.find_element_by_xpath(dimensions_button)\n",
    "    actionChains = ActionChains(driver)\n",
    "    actionChains.move_to_element(dim).perform()\n",
    "    actionChains.click(dim).perform()\n",
    "\n",
    "    actionChains = ActionChains(driver)\n",
    "    country_edit = driver.find_element_by_xpath(country_edit_button)\n",
    "    actionChains.move_to_element(country_edit).perform()\n",
    "    actionChains.click(country_edit).perform()\n",
    "    \n",
    "    \n",
    "    WebDriverWait(driver, 20).until(EC.presence_of_element_located((By.XPATH,filter_dialogue_window)))\n",
    "\n",
    "    filter_dialogue = driver.find_element_by_xpath(filter_dialogue_window)\n",
    "    actionChains = ActionChains(driver)\n",
    "    actionChains.move_to_element(filter_dialogue).perform()\n",
    "    actionChains.context_click(filter_dialogue).perform()\n",
    "\n",
    "    deselect_all = driver.find_element_by_xpath(deselect_all_button)\n",
    "    deselect_all.click()\n",
    "\n",
    "    \n",
    "    filter_dialogue.find_element_by_xpath(\".//span[text()='{}']\".format(country_name)).click()\n",
    "    filter_dialogue.find_element_by_xpath(select_button).click()\n",
    "    \n",
    "    actionChains = ActionChains(driver)\n",
    "    apply = driver.find_element_by_xpath(apply_button)\n",
    "    actionChains.move_to_element(apply).perform()\n",
    "    actionChains.click(apply).perform()\n",
    "\n",
    "    cog.click()\n",
    "\n",
    "    \n",
    "    \n"
   ]
  },
  {
   "cell_type": "markdown",
   "metadata": {},
   "source": [
    "# Define Main Function"
   ]
  },
  {
   "cell_type": "code",
   "execution_count": 11,
   "metadata": {},
   "outputs": [],
   "source": [
    "def Upload_Data_as_JSON(driver,URL, country_name, loc_s,loc_c,folder_path,New_Name,SDG_bool):\n",
    "\n",
    "\n",
    "    time.sleep(2)\n",
    "    #Reads the URL \n",
    "    driver.get(URL)\n",
    "\n",
    "    #Waits till the page loads\n",
    "    WebDriverWait(driver, 60).until(EC.presence_of_element_located((By.XPATH,loc_s)))\n",
    "    WebDriverWait(driver, 600).until(EC.presence_of_element_located((By.CSS_SELECTOR,'div[role=\"row\"]')))\n",
    "\n",
    "    if SDG_bool:\n",
    "        filter_country(driver,country_name,cog_wheel,dimensions_button,country_edit_button,deselect_all_button,filter_dialogue_window,apply_button)\n",
    "        WebDriverWait(driver, 100).until(EC.presence_of_element_located((By.CSS_SELECTOR,'div[role=\"row\"]')))\n",
    "    else:\n",
    "        pass\n",
    "\n",
    "    #finds the download button\n",
    "    s = driver.find_element_by_xpath(loc_s)\n",
    "\n",
    "    s.click()\n",
    "\n",
    "    #Choose to export the data as excel\n",
    "    WebDriverWait(driver, 10).until(EC.presence_of_element_located((By.XPATH,loc_c)))\n",
    "    \n",
    "    c=driver.find_element_by_xpath(loc_c)\n",
    "\n",
    "    time.sleep(10)\n",
    "    # to download pass c to click_and_wait_till_download_starts function\n",
    "    \n",
    "    click_and_wait_till_download_starts(BS_Objct_to_click=c,path=folder_path)\n",
    "\n",
    "    wait_till_download_completes(folder_path)\n",
    "\n",
    "\n",
    "    file_type = '/*xlsx'\n",
    "    files = glob.glob(folder_path + file_type)\n",
    "    max_file = max(files, key=os.path.getctime)\n",
    "\n",
    "\n",
    "    #Saving the data as dic instead of excel\n",
    "\n",
    "    df = pd.read_excel(max_file)\n",
    "    df = df.rename(lambda x: 'Country' if any(k in x for k in ['Country Name', 'Reporter', 'Country ','Country']) else x, axis=1)\n",
    "    df = df[df['Country'] == country_name]\n",
    "    df = df.where(pd.notnull(df), None)\n",
    "    df_dict = df.to_dict(orient='records')\n",
    "    import_file = {\"data\":df_dict}\n",
    "    print (\"length of downloaded file: \",len(df_dict))\n",
    "    \n",
    "    #Save the file as a json with the name you specified\n",
    "    with open(New_Name+ '.json', 'w') as fp:\n",
    "        json.dump(import_file, fp)\n",
    "    \n",
    "    return import_file"
   ]
  },
  {
   "cell_type": "markdown",
   "metadata": {},
   "source": [
    "# Set User Defined Parameters"
   ]
  },
  {
   "cell_type": "markdown",
   "metadata": {},
   "source": [
    "#### Change the below parameters based on the country being processed and the full location of your download folder\n"
   ]
  },
  {
   "cell_type": "code",
   "execution_count": 12,
   "metadata": {},
   "outputs": [],
   "source": [
    "# add country name\n",
    "country_name = 'Kuwait'\n",
    "# Specify where the data usually loads and choose the last downloaded file\n",
    "folder_path = \"C:/Users/10197378/Downloads\""
   ]
  },
  {
   "cell_type": "markdown",
   "metadata": {},
   "source": [
    "#### CHANGE THE FOLLOWING ONLY IF YOU RECIEVE AN ERROR"
   ]
  },
  {
   "cell_type": "markdown",
   "metadata": {},
   "source": [
    "##### The below are xpath locators, if you recieve an error you may need to change one locator. When you are copying a locator from chrome's inspect tab, make sure to resize the inspect tab to the smallest size possible. The Xpath will change if the page resizes for any reason, this is why we reduce the size of the inspector tab."
   ]
  },
  {
   "cell_type": "code",
   "execution_count": 13,
   "metadata": {},
   "outputs": [],
   "source": [
    "# add Locators loc_s is for the export button, and loc_c is for the \"export to excel\" button within the main export button menue\n",
    "loc_s = '/html/body/div/div/div/div[1]/div[1]/div/div[3]/div/div[2]/div/button'\n",
    "loc_c = '/html/body/div/div/div/div[1]/div[1]/div/div[3]/div/div[2]/div[2]/div[2]/div[2]/li[2]'\n",
    "\n",
    "# add locators for sdg page\n",
    "\n",
    "# cog_wheel and other filter related objects\n",
    "cog_wheel = \"/html/body/div/div/div/div[1]/div/div[3]/div[2]/div[1]/div/div/div/div[2]/div[1]/button[1]\"\n",
    "dimensions_button = \"/html/body/div/div/div/div[1]/div/div[3]/div[2]/div[1]/div/div/div/div[1]/div/div/div/div/div/div/ul/div\"\n",
    "country_edit_button = \"/html/body/div/div/div/div[1]/div/div[3]/div[2]/div[1]/div/div/div/div[1]/div/div/div/div/div[1]/div/ul/div[2]/div/div/div/div[2]/div[2]/div[4]/div/button[1]\"\n",
    "deselect_all_button = \"//span[text()='Deselect all']\"\n",
    "filter_dialogue_window = \"/html/body/div/div/div/div[5]/div[2]/div[2]/div/div[2]\"  # xpath for list of countries \n",
    "select_button = \"//span[text()='Select']\"\n",
    "apply_button = \"//span[text()='Apply']\"\n",
    "\n",
    "# SDG add Locators loc_s is for the export button, and loc_c is for the \"export to excel\" button within the main export button menue\n",
    "loc_s_sdg = \"/html/body/div/div/div/div[1]/div/div[1]/div/div[3]/div/div[2]/div/button\"\n",
    "loc_c_sdg = \"/html/body/div/div/div/div[1]/div/div[1]/div/div[3]/div/div[2]/div[2]/div[2]/div[2]/li[2]\"\n"
   ]
  },
  {
   "cell_type": "markdown",
   "metadata": {},
   "source": [
    "# Call Main Function With The Different Data URLs"
   ]
  },
  {
   "cell_type": "code",
   "execution_count": null,
   "metadata": {},
   "outputs": [
    {
     "name": "stdout",
     "output_type": "stream",
     "text": [
      "Starting with Document:  0\n"
     ]
    },
    {
     "name": "stderr",
     "output_type": "stream",
     "text": [
      "C:\\Users\\10197378\\Anaconda3\\lib\\site-packages\\ipykernel_launcher.py:50: DeprecationWarning: executable_path has been deprecated, please pass in a Service object\n",
      "C:\\Users\\10197378\\Anaconda3\\lib\\site-packages\\ipykernel_launcher.py:19: DeprecationWarning: find_element_by_* commands are deprecated. Please use find_element() instead\n",
      "C:\\Users\\10197378\\Anaconda3\\lib\\site-packages\\ipykernel_launcher.py:26: DeprecationWarning: find_element_by_* commands are deprecated. Please use find_element() instead\n"
     ]
    },
    {
     "name": "stdout",
     "output_type": "stream",
     "text": [
      "waiting till download starts\n",
      "file download detected\n",
      "length of downloaded file:  121\n",
      "Finished document:  0\n",
      "Starting with Document:  1\n",
      "waiting till download starts\n",
      "file download detected\n",
      "length of downloaded file:  33\n",
      "Finished document:  1\n",
      "Starting with Document:  2\n",
      "waiting till download starts\n"
     ]
    }
   ],
   "source": [
    "#Add the URLs\n",
    "URLs=[\n",
    "    'https://data.unescwa.org/portal/c78f8929-babc-40d9-8d9b-a5438396d3a7', #National Accounts\n",
    "    'https://data.unescwa.org/portal/37e07376-dcab-4c77-b25d-b63c6c1c0d4b', #Finance\n",
    "    'https://data.unescwa.org/portal/a2f766e6-f2c0-4444-aa73-ccd0d7abf05d', #Trade\n",
    "    'https://data.unescwa.org/portal/79a73daa-8d9e-47dd-b1ee-bfed2b22124e', #Transport\n",
    "    'https://data.unescwa.org/portal/ae81b7b7-05b5-4b39-b87a-1243bef7b232', #Industry\n",
    "\n",
    "#     'https://data.unescwa.org/portal/CPI',                                  #CPI\n",
    "#     'https://data.unescwa.org/portal/a400b071-fd51-4aac-87ae-175627339bdd', #ICP\n",
    "#     'https://data.unescwa.org/portal/gems_data',                            #GEMS\n",
    "\n",
    "    'https://data.unescwa.org/portal/7bae8f12-f543-407f-9afa-29471d6b7c6d', #Population\n",
    "    'https://data.unescwa.org/portal/e68647fb-ea6d-488d-a6f5-2024b080c2cc', #Household Budget\n",
    "    'https://data.unescwa.org/portal/8c972cac-a80c-4bd4-8208-74c6a092e225', #Health\n",
    "    'https://data.unescwa.org/portal/e7d41253-2cf5-4f3b-ba5f-6c45b8af1f88', #Education\n",
    "    'https://data.unescwa.org/portal/69b86687-53d8-4c50-b5d7-b6c96df42d0b', #Labor\n",
    "    'https://data.unescwa.org/portal/e28b867b-13b6-4d97-ad5e-85264879c2ef', #Environment\n",
    "    'https://data.unescwa.org/portal/ed5c2876-01e0-492b-9fad-49702ec6d934', #Energy\n",
    "    'https://data.unescwa.org/share/618997eb-93eb-466c-b768-50557b5ae7b2' #SDG\n",
    "\n",
    "    ]\n",
    "\n",
    "#Names of the new saved data\n",
    "\n",
    "Names=[\n",
    "    'National Accounts',\n",
    "    'Finance',\n",
    "    'Trade',\n",
    "    'Transport',\n",
    "    'Industry',\n",
    "#     'CPI',\n",
    "#     'ICP',\n",
    "#     'GEMS',\n",
    "    'Population',\n",
    "    'Household Budget',\n",
    "    'Health',\n",
    "    'Education',\n",
    "    'Labor',\n",
    "    'Environment',\n",
    "    'Energy',\n",
    "     'SDG'\n",
    "\n",
    "    \n",
    "    ]\n",
    "\n",
    "   \n",
    "for i in range(len(URLs)):\n",
    "    print(\"Starting with Document: \" ,i)\n",
    "    driver = webdriver.Chrome('C:/Users/10197378/chromedriver.exe')\n",
    "    driver.maximize_window()\n",
    "    if Names[i] == 'SDG':\n",
    "        Upload_Data_as_JSON(driver,URLs[i],country_name,loc_s_sdg,loc_c_sdg,folder_path, Names[i],True)\n",
    "    else:    \n",
    "        Upload_Data_as_JSON(driver,URLs[i],country_name,loc_s,loc_c,folder_path, Names[i],False)\n",
    "    \n",
    "    driver.close()\n",
    "    print(\"Finished document: \" , i)\n"
   ]
  }
 ],
 "metadata": {
  "interpreter": {
   "hash": "24fe3d23d454b20b68d6abb3f062a83f83b3ff104e7469c51f2a42affd181d5c"
  },
  "kernelspec": {
   "display_name": "Python 3",
   "language": "python",
   "name": "python3"
  },
  "language_info": {
   "codemirror_mode": {
    "name": "ipython",
    "version": 3
   },
   "file_extension": ".py",
   "mimetype": "text/x-python",
   "name": "python",
   "nbconvert_exporter": "python",
   "pygments_lexer": "ipython3",
   "version": "3.7.6"
  }
 },
 "nbformat": 4,
 "nbformat_minor": 4
}
